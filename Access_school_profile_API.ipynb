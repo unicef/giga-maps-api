{
 "cells": [
  {
   "cell_type": "markdown",
   "id": "88818f8c-38a7-4987-be05-0a1328cd1e3e",
   "metadata": {},
   "source": [
    "# Request School Profile Data from GigaMaps APIs\n",
    "\n",
    "![Giga](https://github.com/unicef/giga-maps-api/blob/main/giga-logo.jpg?raw=true)"
   ]
  },
  {
   "cell_type": "markdown",
   "id": "ea9f3155-4348-49f2-8c6c-f71f975960c9",
   "metadata": {},
   "source": [
    "## `SchoolProfile` Schema\n",
    "\n",
    "A structure describing the profile of a school within the Giga data model.\n",
    "\n",
    "### Fields\n",
    "\n",
    "| Field                         | Type     | Required | Description                                      | Possible Values                          |\n",
    "|------------------------------|----------|----------|--------------------------------------------------|-------------------------------------------|\n",
    "| `giga_id_school`             | string   | Yes      | A unique identifier for the school               | UUID string (e.g. `\"6395a931-d652-3bce-97af-72918cb4259b\"`) |\n",
    "| `school_area_type`           | int      | Yes      | Type of area where the school is located         | e.g. `1` for rural, `2` for urban, etc.    |\n",
    "| `country_iso3_code`          | string   | Yes      | ISO 3166-1 alpha-3 country code                  | e.g. `\"KEN\"`, `\"BRA\"`, `\"IND\"`            |\n",
    "| `admin1`                     | string   | Yes      | First-level administrative division              | e.g. `\"Nairobi\"`, `\"Rio de Janeiro\"`       |\n",
    "| `admin2`                     | string   | Yes      | Second-level administrative division             | e.g. `\"Westlands\"`, `\"Rio de Janeiro\"`     |\n",
    "| `connectivity`               | boolean  | Yes      | Indicates if the school has connectivity         | `true` or `false`                         |\n",
    "| `connectivity_RT`           | boolean  | No       | Real-time connectivity status                    | `true`, `false`, or `null`                |\n",
    "| `connectivity_RT_datasource`| string   | Yes      | Source of real-time connectivity data            | e.g. `\"gigameter\"`, `\"ISP_FEED\"`, or `null` |\n",
    "| `connectivity_type`         | string   | No       | Type of connectivity technology used             | e.g. `\"Fiber\"`, `\"ADSL\"`, `\"HDSL\"`        |\n",
    "| `school_data_source`        | string   | No       | Unique identifier for the data source            | e.g. `\"MOE_2025\"`, `\"ISP_Survey\"`, or `null` |\n",
    "\n",
    "### Example\n",
    "\n",
    "```json\n",
    "{\n",
    "  \"giga_id_school\": \"6395a931-d652-3bce-97af-72918cb4259b\",\n",
    "  \"school_area_type\": \"urban\",\n",
    "  \"country_iso3_code\": \"BRA\",\n",
    "  \"admin1\": \"Rio de Janeiro\",\n",
    "  \"admin2\": \"Rio de Janeiro\",\n",
    "  \"connectivity\": true,\n",
    "  \"connectivity_RT\": true,\n",
    "  \"connectivity_RT_datasource\": null,\n",
    "  \"connectivity_type\": \"{ADSL,NULL}\",\n",
    "  \"school_data_source\": null\n",
    "}\n",
    "\n",
    "Note than in some cases attributes will be written in local language"
   ]
  },
  {
   "cell_type": "code",
   "id": "73538d8a-8a59-417e-a9e8-b62aeeded490",
   "metadata": {
    "ExecuteTime": {
     "end_time": "2025-06-19T11:31:49.149077Z",
     "start_time": "2025-06-19T11:31:48.852720Z"
    }
   },
   "source": [
    "# Install libraries as needed\n",
    "\n",
    "import requests\n",
    "import pandas as pd\n",
    "import geopandas as gpd"
   ],
   "outputs": [
    {
     "ename": "ModuleNotFoundError",
     "evalue": "No module named 'pandas'",
     "output_type": "error",
     "traceback": [
      "\u001B[31m---------------------------------------------------------------------------\u001B[39m",
      "\u001B[31mModuleNotFoundError\u001B[39m                       Traceback (most recent call last)",
      "\u001B[36mCell\u001B[39m\u001B[36m \u001B[39m\u001B[32mIn[1]\u001B[39m\u001B[32m, line 4\u001B[39m\n\u001B[32m      1\u001B[39m \u001B[38;5;66;03m# Install libraries as needed\u001B[39;00m\n\u001B[32m      3\u001B[39m \u001B[38;5;28;01mimport\u001B[39;00m\u001B[38;5;250m \u001B[39m\u001B[34;01mrequests\u001B[39;00m\n\u001B[32m----> \u001B[39m\u001B[32m4\u001B[39m \u001B[38;5;28;01mimport\u001B[39;00m\u001B[38;5;250m \u001B[39m\u001B[34;01mpandas\u001B[39;00m\u001B[38;5;250m \u001B[39m\u001B[38;5;28;01mas\u001B[39;00m\u001B[38;5;250m \u001B[39m\u001B[34;01mpd\u001B[39;00m\n\u001B[32m      5\u001B[39m \u001B[38;5;28;01mimport\u001B[39;00m\u001B[38;5;250m \u001B[39m\u001B[34;01mgeopandas\u001B[39;00m\u001B[38;5;250m \u001B[39m\u001B[38;5;28;01mas\u001B[39;00m\u001B[38;5;250m \u001B[39m\u001B[34;01mgpd\u001B[39;00m\n",
      "\u001B[31mModuleNotFoundError\u001B[39m: No module named 'pandas'"
     ]
    }
   ],
   "execution_count": 1
  },
  {
   "cell_type": "code",
   "execution_count": null,
   "id": "a5ad022b-6119-4226-821a-271a97eb4552",
   "metadata": {},
   "outputs": [],
   "source": [
    "# Assign the the ISO code for the country you would like school location data for as a string to country_code variable.\n",
    "# The list of countries available on GigaMaps (with ISO codes) can be downloaded using the GigaMaps Country API. https://maps.giga.global/docs/explore-api\n",
    "\n",
    "country_code = \"BIH\""
   ]
  },
  {
   "cell_type": "code",
   "execution_count": null,
   "id": "460ef988-8966-4b94-addf-7caabeb802b3",
   "metadata": {},
   "outputs": [],
   "source": [
    "# Assign your unique API key as a string to variable api_key (if you don't have an API key, you can request one from Giga Maps)\n",
    "api_key = \"\""
   ]
  },
  {
   "cell_type": "code",
   "execution_count": null,
   "id": "82695951-837c-4566-b5ae-1cbe1dbb1282",
   "metadata": {},
   "outputs": [],
   "source": [
    "# URL for School Location API endpoint (using selected country)\n",
    "BASE_URL = f\"https://uni-ooi-giga-maps-service.azurewebsites.net/api/v1/schools_profile/?country_iso3_code={country_code}\"\n",
    "\n",
    "#Headers\n",
    "headers = {\n",
    "    \"accept\": \"application/json\",\n",
    "    \"Authorization\": f\"Bearer {api_key}\"\n",
    "}"
   ]
  },
  {
   "cell_type": "code",
   "execution_count": null,
   "id": "f5f281c1-a083-4126-8bc6-8d65e4f09ccc",
   "metadata": {},
   "outputs": [],
   "source": [
    "# Parameters (see Giga Maps API docs)\n",
    "# Requests need to be paginated- split up into multiple requests to prevent overloading the API\n",
    "page = 1\n",
    "\n",
    "# Current max page size is 1000, meaning each request will return 100 entries \n",
    "size = 1000"
   ]
  },
  {
   "cell_type": "code",
   "execution_count": null,
   "id": "1ff57f8b-75cc-4d47-b448-c14d05142e06",
   "metadata": {
    "scrolled": true
   },
   "outputs": [],
   "source": [
    "# Creates a list to store all the responses from API requests\n",
    "all_schools = []\n",
    "\n",
    "# Loop through pages until all school location data has been collected\n",
    "while True:\n",
    "    params = {\n",
    "        \"page\": page,\n",
    "        \"size\": size\n",
    "    }\n",
    "    \n",
    "   # Request schools from the API endpoint \n",
    "    response = requests.get(BASE_URL, headers=headers, params=params)\n",
    "\n",
    "    # Ensure that the response from the API is correct. With an incorrect response, no more requests will be sent\n",
    "    if response.status_code != 200:\n",
    "        print(f\"Request failed at page {page}: {response.text}\")\n",
    "        break\n",
    "\n",
    "    # Extract the schools returned from the API\n",
    "    data = response.json()['data']\n",
    "\n",
    "    # Check that the most recent request receives data in the response\n",
    "    if not data or len(data) == 0:\n",
    "        print(f\"No more data returned at page {page}.\")\n",
    "        break\n",
    "\n",
    "   #Continuously add newly fetched schools to the all_schools list\n",
    "    all_schools.extend(data)\n",
    "    clear_output(wait=True)\n",
    "    display(f\"Fetched page {page}, items received: {len(data)}\")\n",
    "    page += 1"
   ]
  },
  {
   "cell_type": "code",
   "execution_count": null,
   "id": "1dbb6218-5429-4808-b5bb-40343365bf26",
   "metadata": {},
   "outputs": [],
   "source": [
    "#Convert to pandas DataFrame\n",
    "school_profile_data = gpd.GeoDataFrame(all_schools)"
   ]
  },
  {
   "cell_type": "code",
   "execution_count": null,
   "id": "9c252d96-7fe0-4af8-9d19-bba699a5dd17",
   "metadata": {
    "scrolled": true
   },
   "outputs": [],
   "source": [
    "# Save the filtered data to a GeoJSON file\n",
    "school_profile_data.to_file(\"school_profile_data.geojson\", driver=\"GeoJSON\")"
   ]
  }
 ],
 "metadata": {
  "kernelspec": {
   "display_name": "Python 3 (ipykernel)",
   "language": "python",
   "name": "python3"
  },
  "language_info": {
   "codemirror_mode": {
    "name": "ipython",
    "version": 3
   },
   "file_extension": ".py",
   "mimetype": "text/x-python",
   "name": "python",
   "nbconvert_exporter": "python",
   "pygments_lexer": "ipython3",
   "version": "3.12.7"
  }
 },
 "nbformat": 4,
 "nbformat_minor": 5
}
